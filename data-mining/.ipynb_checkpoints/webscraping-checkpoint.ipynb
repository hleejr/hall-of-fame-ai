{
 "cells": [
  {
   "cell_type": "code",
   "execution_count": 1,
   "id": "22689725",
   "metadata": {},
   "outputs": [],
   "source": [
    "# imports used for webscraping\n",
    "from bs4 import BeautifulSoup\n",
    "from multiprocess import Pool\n",
    "import sys, requests, pandas, numpy, string \n",
    "\n",
    "# any config/setup for imported libraries\n",
    "pandas.options.display.max_columns = None\n",
    "pandas.options.display.max_rows = None"
   ]
  },
  {
   "cell_type": "code",
   "execution_count": 2,
   "id": "1f8da63e",
   "metadata": {},
   "outputs": [
    {
     "data": {
      "text/plain": [
       "'\\n1. (%run <file_name.py>) running a python filoe in a notebook \\n2. (%%time) calculate the time taken to run the code within a cell\\n3. (%%writefile <newfile_name.py>) create a new file with name given from the contents within a cell\\n4. (%load <file_name.py>) loading a python file in a notebook \\n5. (%pinfo <variable_name>) get information about a given variable\\n6. (%history -n) get the last n number of commands given in a notebook\\n7. (%Ismagic) shows all fancy notebook commands\\n'"
      ]
     },
     "execution_count": 2,
     "metadata": {},
     "output_type": "execute_result"
    }
   ],
   "source": [
    "\"\"\"\n",
    "1. (%run <file_name.py>) running a python filoe in a notebook \n",
    "2. (%%time) calculate the time taken to run the code within a cell\n",
    "3. (%%writefile <newfile_name.py>) create a new file with name given from the contents within a cell\n",
    "4. (%load <file_name.py>) loading a python file in a notebook \n",
    "5. (%pinfo <variable_name>) get information about a given variable\n",
    "6. (%history -n) get the last n number of commands given in a notebook\n",
    "7. (%Ismagic) shows all fancy notebook commands\n",
    "\"\"\""
   ]
  }
 ],
 "metadata": {
  "kernelspec": {
   "display_name": "Python 3 (ipykernel)",
   "language": "python",
   "name": "python3"
  },
  "language_info": {
   "codemirror_mode": {
    "name": "ipython",
    "version": 3
   },
   "file_extension": ".py",
   "mimetype": "text/x-python",
   "name": "python",
   "nbconvert_exporter": "python",
   "pygments_lexer": "ipython3",
   "version": "3.9.6"
  }
 },
 "nbformat": 4,
 "nbformat_minor": 5
}
